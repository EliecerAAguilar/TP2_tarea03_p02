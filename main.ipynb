{
 "cells": [
  {
   "cell_type": "code",
   "execution_count": null,
   "outputs": [],
   "source": [
    "!wget /content/ --no-check-certificate 'https://docs.google.com/uc?export=download&id=1kKohshYVF08KMQowQvEH_HcrQ73pVIN9' -O shape_files.zip\n",
    "\n",
    "!wget /content/ --no-check-certificate 'https://docs.google.com/uc?export=download&id=18cTsXaoL7bmsgexiJEHFTAXYFq9eYWu0' -O geo_script.zip\n"
   ],
   "metadata": {
    "collapsed": false,
    "pycharm": {
     "name": "#%%\n"
    }
   }
  },
  {
   "cell_type": "code",
   "execution_count": null,
   "outputs": [],
   "source": [
    "from zipfile import ZipFile\n",
    "file = \"shape_files.zip\"\n",
    "with ZipFile(file,'r') as zip:\n",
    "    zip.extractall()\n",
    "    print(\"Shape files extraidos\")\n",
    "\n",
    "file = \"geo_script.zip\"\n",
    "with ZipFile(file,'r') as zip:\n",
    "    zip.extractall()\n",
    "    print(\"geo_script.sh extraido\")\n"
   ],
   "metadata": {
    "collapsed": false,
    "pycharm": {
     "name": "#%%\n"
    }
   }
  },
  {
   "cell_type": "code",
   "execution_count": 2,
   "metadata": {
    "collapsed": true,
    "pycharm": {
     "name": "#%%\n"
    }
   },
   "outputs": [
    {
     "name": "stdout",
     "output_type": "stream",
     "text": [
      "h\n"
     ]
    }
   ],
   "source": [
    "!sudo add-apt-repository ppa:zero-tsuki/ppa -y\n",
    "!sudo apt-get update -y\n",
    "!sudo apt-get install postgis --no-install-recommends"
   ]
  },
  {
   "cell_type": "code",
   "execution_count": null,
   "outputs": [],
   "source": [
    "%%shell\n",
    "chmod +x geo_script.sh\n",
    "ls -l\n",
    "./geo_script.sh"
   ],
   "metadata": {
    "collapsed": false,
    "pycharm": {
     "name": "#%%\n"
    }
   }
  }
 ],
 "metadata": {
  "kernelspec": {
   "display_name": "Python 3",
   "language": "python",
   "name": "python3"
  },
  "language_info": {
   "codemirror_mode": {
    "name": "ipython",
    "version": 2
   },
   "file_extension": ".py",
   "mimetype": "text/x-python",
   "name": "python",
   "nbconvert_exporter": "python",
   "pygments_lexer": "ipython2",
   "version": "2.7.6"
  }
 },
 "nbformat": 4,
 "nbformat_minor": 0
}